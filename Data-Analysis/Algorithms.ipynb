{
 "cells": [
  {
   "cell_type": "code",
   "execution_count": 1,
   "metadata": {},
   "outputs": [],
   "source": [
    "import pandas as pd\n",
    "import matplotlib.pyplot as plt"
   ]
  },
  {
   "cell_type": "code",
   "execution_count": 2,
   "metadata": {},
   "outputs": [],
   "source": [
    "users = pd.read_csv('C:\\\\Users\\\\Maria\\\\Desktop\\\\CodeHub\\\\Jupyter\\Project\\\\users2.csv')"
   ]
  },
  {
   "cell_type": "code",
   "execution_count": 3,
   "metadata": {},
   "outputs": [
    {
     "data": {
      "text/plain": [
       "Index(['Unnamed: 0', 'Unnamed: 0.1', 'user_id', 'birth_year', 'city',\n",
       "       'created_date', 'user_settings_crypto_unlocked', 'plan', 'num_contacts',\n",
       "       'North-East', 'UK', 'West-South', 'brand', 'number_of_transactions',\n",
       "       'completed_transactions', 'Perc_comp_transactions',\n",
       "       'transactions_last_15_days', 'transactions_april_2019',\n",
       "       'transactions_Jan_Feb_Mar_2019', 'total_amount_usd',\n",
       "       'total_amount_usd_completed', 'Perc_compl_amount',\n",
       "       'max_amount_usd_completed', 'min_amount_usd_completed',\n",
       "       'mean_amount_usd_completed', 'EMAIL', 'PUSH', 'SMS', 'PUSH_sent',\n",
       "       'EMAIL_sent', 'SMS_sent'],\n",
       "      dtype='object')"
      ]
     },
     "execution_count": 3,
     "metadata": {},
     "output_type": "execute_result"
    }
   ],
   "source": [
    "users.columns"
   ]
  },
  {
   "cell_type": "code",
   "execution_count": 92,
   "metadata": {},
   "outputs": [],
   "source": [
    "users= users.drop(['Unnamed: 0'], axis=1)\n",
    "users= users.drop(['Unnamed: 0.1'], axis=1)\n",
    "users= users.drop(['user_id'], axis=1)"
   ]
  },
  {
   "cell_type": "code",
   "execution_count": 93,
   "metadata": {},
   "outputs": [
    {
     "data": {
      "text/html": [
       "<div>\n",
       "<style scoped>\n",
       "    .dataframe tbody tr th:only-of-type {\n",
       "        vertical-align: middle;\n",
       "    }\n",
       "\n",
       "    .dataframe tbody tr th {\n",
       "        vertical-align: top;\n",
       "    }\n",
       "\n",
       "    .dataframe thead th {\n",
       "        text-align: right;\n",
       "    }\n",
       "</style>\n",
       "<table border=\"1\" class=\"dataframe\">\n",
       "  <thead>\n",
       "    <tr style=\"text-align: right;\">\n",
       "      <th></th>\n",
       "      <th>birth_year</th>\n",
       "      <th>city</th>\n",
       "      <th>created_date</th>\n",
       "      <th>user_settings_crypto_unlocked</th>\n",
       "      <th>plan</th>\n",
       "      <th>num_contacts</th>\n",
       "      <th>North-East</th>\n",
       "      <th>UK</th>\n",
       "      <th>West-South</th>\n",
       "      <th>brand</th>\n",
       "      <th>...</th>\n",
       "      <th>Perc_compl_amount</th>\n",
       "      <th>max_amount_usd_completed</th>\n",
       "      <th>min_amount_usd_completed</th>\n",
       "      <th>mean_amount_usd_completed</th>\n",
       "      <th>EMAIL</th>\n",
       "      <th>PUSH</th>\n",
       "      <th>SMS</th>\n",
       "      <th>PUSH_sent</th>\n",
       "      <th>EMAIL_sent</th>\n",
       "      <th>SMS_sent</th>\n",
       "    </tr>\n",
       "  </thead>\n",
       "  <tbody>\n",
       "    <tr>\n",
       "      <th>0</th>\n",
       "      <td>13</td>\n",
       "      <td>1</td>\n",
       "      <td>1</td>\n",
       "      <td>0</td>\n",
       "      <td>0</td>\n",
       "      <td>3</td>\n",
       "      <td>0</td>\n",
       "      <td>1</td>\n",
       "      <td>0</td>\n",
       "      <td>1</td>\n",
       "      <td>...</td>\n",
       "      <td>97.232179</td>\n",
       "      <td>510.64</td>\n",
       "      <td>0.58</td>\n",
       "      <td>13.317462</td>\n",
       "      <td>1.0</td>\n",
       "      <td>1.0</td>\n",
       "      <td>0.0</td>\n",
       "      <td>2.0</td>\n",
       "      <td>6.0</td>\n",
       "      <td>0.0</td>\n",
       "    </tr>\n",
       "    <tr>\n",
       "      <th>1</th>\n",
       "      <td>12</td>\n",
       "      <td>0</td>\n",
       "      <td>1</td>\n",
       "      <td>1</td>\n",
       "      <td>0</td>\n",
       "      <td>75</td>\n",
       "      <td>1</td>\n",
       "      <td>0</td>\n",
       "      <td>0</td>\n",
       "      <td>1</td>\n",
       "      <td>...</td>\n",
       "      <td>91.480489</td>\n",
       "      <td>851.06</td>\n",
       "      <td>0.94</td>\n",
       "      <td>97.410075</td>\n",
       "      <td>1.0</td>\n",
       "      <td>1.0</td>\n",
       "      <td>0.0</td>\n",
       "      <td>5.0</td>\n",
       "      <td>5.0</td>\n",
       "      <td>0.0</td>\n",
       "    </tr>\n",
       "    <tr>\n",
       "      <th>2</th>\n",
       "      <td>14</td>\n",
       "      <td>0</td>\n",
       "      <td>1</td>\n",
       "      <td>0</td>\n",
       "      <td>0</td>\n",
       "      <td>71</td>\n",
       "      <td>1</td>\n",
       "      <td>0</td>\n",
       "      <td>0</td>\n",
       "      <td>1</td>\n",
       "      <td>...</td>\n",
       "      <td>91.301870</td>\n",
       "      <td>194.38</td>\n",
       "      <td>0.04</td>\n",
       "      <td>10.163806</td>\n",
       "      <td>1.0</td>\n",
       "      <td>1.0</td>\n",
       "      <td>0.0</td>\n",
       "      <td>3.0</td>\n",
       "      <td>2.0</td>\n",
       "      <td>0.0</td>\n",
       "    </tr>\n",
       "    <tr>\n",
       "      <th>3</th>\n",
       "      <td>11</td>\n",
       "      <td>1</td>\n",
       "      <td>1</td>\n",
       "      <td>0</td>\n",
       "      <td>0</td>\n",
       "      <td>219</td>\n",
       "      <td>1</td>\n",
       "      <td>0</td>\n",
       "      <td>0</td>\n",
       "      <td>1</td>\n",
       "      <td>...</td>\n",
       "      <td>84.628052</td>\n",
       "      <td>510.64</td>\n",
       "      <td>1.87</td>\n",
       "      <td>49.994929</td>\n",
       "      <td>1.0</td>\n",
       "      <td>1.0</td>\n",
       "      <td>0.0</td>\n",
       "      <td>6.0</td>\n",
       "      <td>0.0</td>\n",
       "      <td>0.0</td>\n",
       "    </tr>\n",
       "    <tr>\n",
       "      <th>4</th>\n",
       "      <td>13</td>\n",
       "      <td>1</td>\n",
       "      <td>1</td>\n",
       "      <td>0</td>\n",
       "      <td>0</td>\n",
       "      <td>0</td>\n",
       "      <td>0</td>\n",
       "      <td>1</td>\n",
       "      <td>0</td>\n",
       "      <td>1</td>\n",
       "      <td>...</td>\n",
       "      <td>91.859790</td>\n",
       "      <td>200.00</td>\n",
       "      <td>1.50</td>\n",
       "      <td>19.628600</td>\n",
       "      <td>1.0</td>\n",
       "      <td>1.0</td>\n",
       "      <td>0.0</td>\n",
       "      <td>4.0</td>\n",
       "      <td>3.0</td>\n",
       "      <td>0.0</td>\n",
       "    </tr>\n",
       "    <tr>\n",
       "      <th>...</th>\n",
       "      <td>...</td>\n",
       "      <td>...</td>\n",
       "      <td>...</td>\n",
       "      <td>...</td>\n",
       "      <td>...</td>\n",
       "      <td>...</td>\n",
       "      <td>...</td>\n",
       "      <td>...</td>\n",
       "      <td>...</td>\n",
       "      <td>...</td>\n",
       "      <td>...</td>\n",
       "      <td>...</td>\n",
       "      <td>...</td>\n",
       "      <td>...</td>\n",
       "      <td>...</td>\n",
       "      <td>...</td>\n",
       "      <td>...</td>\n",
       "      <td>...</td>\n",
       "      <td>...</td>\n",
       "      <td>...</td>\n",
       "      <td>...</td>\n",
       "    </tr>\n",
       "    <tr>\n",
       "      <th>15539</th>\n",
       "      <td>14</td>\n",
       "      <td>0</td>\n",
       "      <td>2</td>\n",
       "      <td>0</td>\n",
       "      <td>0</td>\n",
       "      <td>0</td>\n",
       "      <td>1</td>\n",
       "      <td>0</td>\n",
       "      <td>0</td>\n",
       "      <td>0</td>\n",
       "      <td>...</td>\n",
       "      <td>66.498099</td>\n",
       "      <td>297.65</td>\n",
       "      <td>0.05</td>\n",
       "      <td>46.977473</td>\n",
       "      <td>1.0</td>\n",
       "      <td>1.0</td>\n",
       "      <td>0.0</td>\n",
       "      <td>1.0</td>\n",
       "      <td>2.0</td>\n",
       "      <td>0.0</td>\n",
       "    </tr>\n",
       "    <tr>\n",
       "      <th>15540</th>\n",
       "      <td>12</td>\n",
       "      <td>0</td>\n",
       "      <td>2</td>\n",
       "      <td>0</td>\n",
       "      <td>0</td>\n",
       "      <td>0</td>\n",
       "      <td>1</td>\n",
       "      <td>0</td>\n",
       "      <td>0</td>\n",
       "      <td>1</td>\n",
       "      <td>...</td>\n",
       "      <td>93.653549</td>\n",
       "      <td>43.84</td>\n",
       "      <td>0.46</td>\n",
       "      <td>9.710000</td>\n",
       "      <td>1.0</td>\n",
       "      <td>1.0</td>\n",
       "      <td>0.0</td>\n",
       "      <td>0.0</td>\n",
       "      <td>0.0</td>\n",
       "      <td>0.0</td>\n",
       "    </tr>\n",
       "    <tr>\n",
       "      <th>15541</th>\n",
       "      <td>10</td>\n",
       "      <td>1</td>\n",
       "      <td>2</td>\n",
       "      <td>0</td>\n",
       "      <td>0</td>\n",
       "      <td>16</td>\n",
       "      <td>0</td>\n",
       "      <td>1</td>\n",
       "      <td>0</td>\n",
       "      <td>0</td>\n",
       "      <td>...</td>\n",
       "      <td>90.598940</td>\n",
       "      <td>1100.00</td>\n",
       "      <td>0.01</td>\n",
       "      <td>16.687062</td>\n",
       "      <td>1.0</td>\n",
       "      <td>1.0</td>\n",
       "      <td>0.0</td>\n",
       "      <td>1.0</td>\n",
       "      <td>3.0</td>\n",
       "      <td>0.0</td>\n",
       "    </tr>\n",
       "    <tr>\n",
       "      <th>15542</th>\n",
       "      <td>10</td>\n",
       "      <td>1</td>\n",
       "      <td>1</td>\n",
       "      <td>0</td>\n",
       "      <td>1</td>\n",
       "      <td>44</td>\n",
       "      <td>1</td>\n",
       "      <td>0</td>\n",
       "      <td>0</td>\n",
       "      <td>1</td>\n",
       "      <td>...</td>\n",
       "      <td>92.213975</td>\n",
       "      <td>85.11</td>\n",
       "      <td>0.01</td>\n",
       "      <td>17.770435</td>\n",
       "      <td>1.0</td>\n",
       "      <td>1.0</td>\n",
       "      <td>0.0</td>\n",
       "      <td>1.0</td>\n",
       "      <td>2.0</td>\n",
       "      <td>0.0</td>\n",
       "    </tr>\n",
       "    <tr>\n",
       "      <th>15543</th>\n",
       "      <td>13</td>\n",
       "      <td>0</td>\n",
       "      <td>2</td>\n",
       "      <td>1</td>\n",
       "      <td>0</td>\n",
       "      <td>8</td>\n",
       "      <td>0</td>\n",
       "      <td>1</td>\n",
       "      <td>0</td>\n",
       "      <td>0</td>\n",
       "      <td>...</td>\n",
       "      <td>94.337208</td>\n",
       "      <td>113.17</td>\n",
       "      <td>0.01</td>\n",
       "      <td>6.072769</td>\n",
       "      <td>1.0</td>\n",
       "      <td>1.0</td>\n",
       "      <td>0.0</td>\n",
       "      <td>3.0</td>\n",
       "      <td>4.0</td>\n",
       "      <td>0.0</td>\n",
       "    </tr>\n",
       "  </tbody>\n",
       "</table>\n",
       "<p>15544 rows × 28 columns</p>\n",
       "</div>"
      ],
      "text/plain": [
       "       birth_year  city  created_date  user_settings_crypto_unlocked  plan  \\\n",
       "0              13     1             1                              0     0   \n",
       "1              12     0             1                              1     0   \n",
       "2              14     0             1                              0     0   \n",
       "3              11     1             1                              0     0   \n",
       "4              13     1             1                              0     0   \n",
       "...           ...   ...           ...                            ...   ...   \n",
       "15539          14     0             2                              0     0   \n",
       "15540          12     0             2                              0     0   \n",
       "15541          10     1             2                              0     0   \n",
       "15542          10     1             1                              0     1   \n",
       "15543          13     0             2                              1     0   \n",
       "\n",
       "       num_contacts  North-East  UK  West-South  brand  ...  \\\n",
       "0                 3           0   1           0      1  ...   \n",
       "1                75           1   0           0      1  ...   \n",
       "2                71           1   0           0      1  ...   \n",
       "3               219           1   0           0      1  ...   \n",
       "4                 0           0   1           0      1  ...   \n",
       "...             ...         ...  ..         ...    ...  ...   \n",
       "15539             0           1   0           0      0  ...   \n",
       "15540             0           1   0           0      1  ...   \n",
       "15541            16           0   1           0      0  ...   \n",
       "15542            44           1   0           0      1  ...   \n",
       "15543             8           0   1           0      0  ...   \n",
       "\n",
       "       Perc_compl_amount  max_amount_usd_completed  min_amount_usd_completed  \\\n",
       "0              97.232179                    510.64                      0.58   \n",
       "1              91.480489                    851.06                      0.94   \n",
       "2              91.301870                    194.38                      0.04   \n",
       "3              84.628052                    510.64                      1.87   \n",
       "4              91.859790                    200.00                      1.50   \n",
       "...                  ...                       ...                       ...   \n",
       "15539          66.498099                    297.65                      0.05   \n",
       "15540          93.653549                     43.84                      0.46   \n",
       "15541          90.598940                   1100.00                      0.01   \n",
       "15542          92.213975                     85.11                      0.01   \n",
       "15543          94.337208                    113.17                      0.01   \n",
       "\n",
       "       mean_amount_usd_completed  EMAIL  PUSH  SMS  PUSH_sent  EMAIL_sent  \\\n",
       "0                      13.317462    1.0   1.0  0.0        2.0         6.0   \n",
       "1                      97.410075    1.0   1.0  0.0        5.0         5.0   \n",
       "2                      10.163806    1.0   1.0  0.0        3.0         2.0   \n",
       "3                      49.994929    1.0   1.0  0.0        6.0         0.0   \n",
       "4                      19.628600    1.0   1.0  0.0        4.0         3.0   \n",
       "...                          ...    ...   ...  ...        ...         ...   \n",
       "15539                  46.977473    1.0   1.0  0.0        1.0         2.0   \n",
       "15540                   9.710000    1.0   1.0  0.0        0.0         0.0   \n",
       "15541                  16.687062    1.0   1.0  0.0        1.0         3.0   \n",
       "15542                  17.770435    1.0   1.0  0.0        1.0         2.0   \n",
       "15543                   6.072769    1.0   1.0  0.0        3.0         4.0   \n",
       "\n",
       "       SMS_sent  \n",
       "0           0.0  \n",
       "1           0.0  \n",
       "2           0.0  \n",
       "3           0.0  \n",
       "4           0.0  \n",
       "...         ...  \n",
       "15539       0.0  \n",
       "15540       0.0  \n",
       "15541       0.0  \n",
       "15542       0.0  \n",
       "15543       0.0  \n",
       "\n",
       "[15544 rows x 28 columns]"
      ]
     },
     "execution_count": 93,
     "metadata": {},
     "output_type": "execute_result"
    }
   ],
   "source": [
    "users"
   ]
  },
  {
   "cell_type": "code",
   "execution_count": 4,
   "metadata": {},
   "outputs": [
    {
     "data": {
      "text/plain": [
       "Index(['Unnamed: 0', 'Unnamed: 0.1', 'user_id', 'birth_year', 'city',\n",
       "       'created_date', 'user_settings_crypto_unlocked', 'plan', 'num_contacts',\n",
       "       'North-East', 'UK', 'West-South', 'brand', 'number_of_transactions',\n",
       "       'completed_transactions', 'Perc_comp_transactions',\n",
       "       'transactions_last_15_days', 'transactions_april_2019',\n",
       "       'transactions_Jan_Feb_Mar_2019', 'total_amount_usd',\n",
       "       'total_amount_usd_completed', 'Perc_compl_amount',\n",
       "       'max_amount_usd_completed', 'min_amount_usd_completed',\n",
       "       'mean_amount_usd_completed', 'EMAIL', 'PUSH', 'SMS', 'PUSH_sent',\n",
       "       'EMAIL_sent', 'SMS_sent'],\n",
       "      dtype='object')"
      ]
     },
     "execution_count": 4,
     "metadata": {},
     "output_type": "execute_result"
    }
   ],
   "source": [
    "users.columns"
   ]
  },
  {
   "cell_type": "code",
   "execution_count": 5,
   "metadata": {},
   "outputs": [],
   "source": [
    "X = users[['birth_year', 'city', 'created_date', 'user_settings_crypto_unlocked',\n",
    "        'num_contacts', 'North-East', 'UK', 'West-South', 'brand',\n",
    "       'number_of_transactions', 'completed_transactions',\n",
    "       'Perc_comp_transactions', 'transactions_last_15_days',\n",
    "       'transactions_april_2019', 'transactions_Jan_Feb_Mar_2019',\n",
    "       'total_amount_usd', 'total_amount_usd_completed', 'Perc_compl_amount',\n",
    "       'max_amount_usd_completed', 'min_amount_usd_completed',\n",
    "       'mean_amount_usd_completed', 'EMAIL', 'PUSH', 'SMS', 'PUSH_sent',\n",
    "       'EMAIL_sent', 'SMS_sent']]"
   ]
  },
  {
   "cell_type": "code",
   "execution_count": 6,
   "metadata": {},
   "outputs": [],
   "source": [
    "y = users['plan']"
   ]
  },
  {
   "cell_type": "markdown",
   "metadata": {},
   "source": [
    "## Split "
   ]
  },
  {
   "cell_type": "code",
   "execution_count": 29,
   "metadata": {},
   "outputs": [],
   "source": [
    "from sklearn.model_selection import train_test_split\n",
    "\n",
    "X_train, X_test, y_train, y_test = train_test_split(X, y, test_size=0.2)"
   ]
  },
  {
   "cell_type": "code",
   "execution_count": 128,
   "metadata": {},
   "outputs": [
    {
     "data": {
      "text/plain": [
       "((12435, 27), (3109, 27), (12435,), (3109,))"
      ]
     },
     "execution_count": 128,
     "metadata": {},
     "output_type": "execute_result"
    }
   ],
   "source": [
    "X_train.shape, X_test.shape, y_train.shape, y_test.shape"
   ]
  },
  {
   "cell_type": "markdown",
   "metadata": {},
   "source": [
    "## Standardize"
   ]
  },
  {
   "cell_type": "code",
   "execution_count": 44,
   "metadata": {},
   "outputs": [],
   "source": [
    "from sklearn.preprocessing import StandardScaler\n",
    "\n",
    "sc = StandardScaler()\n",
    "\n",
    "X_train = sc.fit_transform(X_train)\n",
    "X_test = sc.transform(X_test)"
   ]
  },
  {
   "cell_type": "code",
   "execution_count": 73,
   "metadata": {},
   "outputs": [
    {
     "data": {
      "text/plain": [
       "numpy.ndarray"
      ]
     },
     "execution_count": 73,
     "metadata": {},
     "output_type": "execute_result"
    }
   ],
   "source": [
    "type(X_train)"
   ]
  },
  {
   "cell_type": "code",
   "execution_count": 74,
   "metadata": {},
   "outputs": [
    {
     "data": {
      "text/plain": [
       "array([[ 0.72890736, -0.5940993 , -0.97498115, ..., -1.08001263,\n",
       "         0.47201492, -0.12976048],\n",
       "       [ 0.72890736, -0.5940993 , -0.97498115, ..., -1.08001263,\n",
       "        -1.36430967, -0.12976048],\n",
       "       [-1.02971953, -0.5940993 , -0.97498115, ..., -1.08001263,\n",
       "        -0.75220148, -0.12976048],\n",
       "       ...,\n",
       "       [-0.15040609,  1.6832203 , -0.97498115, ...,  0.31212555,\n",
       "        -0.14009328, -0.12976048],\n",
       "       [-1.46937626, -0.5940993 , -0.97498115, ..., -1.08001263,\n",
       "        -0.75220148, -0.12976048],\n",
       "       [-1.90903298,  1.6832203 , -0.97498115, ..., -0.61596657,\n",
       "        -0.75220148, -0.12976048]])"
      ]
     },
     "execution_count": 74,
     "metadata": {},
     "output_type": "execute_result"
    }
   ],
   "source": [
    "X_test"
   ]
  },
  {
   "cell_type": "code",
   "execution_count": 31,
   "metadata": {},
   "outputs": [
    {
     "data": {
      "image/png": "[encoded data removed]",
      "text/plain": [
       "<Figure size 432x288 with 1 Axes>"
      ]
     },
     "metadata": {
      "needs_background": "light"
     },
     "output_type": "display_data"
    }
   ],
   "source": [
    "from sklearn.linear_model import LogisticRegression\n",
    "from sklearn.feature_selection import RFECV\n",
    "import warnings\n",
    "\n",
    "# Need to ignore annoying ConvergenceWarnings \n",
    "warnings.filterwarnings('ignore')\n",
    "\n",
    "# We'll chose a simple classifier for this task\n",
    "clf = LogisticRegression(solver='lbfgs', multi_class='auto')  # parameters are used to mute FutureWarnings\n",
    "\n",
    "# Create the RFE object and compute a cross-validated score.\n",
    "rfecv = RFECV(estimator=clf, cv=5, scoring='f1')  # 5-fold CV, measure the accuracy score of each iteration\n",
    "rfecv.fit(X_train, y_train)\n",
    "\n",
    "#                                                PLOTTING:\n",
    "#                              --------------------------------------------\n",
    "\n",
    "# Plot scores for each feature subset\n",
    "ax = plt.subplot(111)\n",
    "ax.plot(range(1, len(rfecv.grid_scores_) + 1), rfecv.grid_scores_)\n",
    "\n",
    "ax.set_title('Performance per number of features selected')\n",
    "ax.set_xlabel('features selected')\n",
    "ax.set_ylabel('f1-score')\n",
    "\n",
    "ax.spines['top'].set_visible(False)\n",
    "ax.spines['right'].set_visible(False)"
   ]
  },
  {
   "cell_type": "code",
   "execution_count": 32,
   "metadata": {},
   "outputs": [
    {
     "data": {
      "text/plain": [
       "array([ True, False, False,  True, False, False, False,  True,  True,\n",
       "        True,  True,  True,  True,  True,  True, False,  True, False,\n",
       "        True,  True, False,  True,  True, False,  True,  True, False])"
      ]
     },
     "execution_count": 32,
     "metadata": {},
     "output_type": "execute_result"
    }
   ],
   "source": [
    "rfecv.support_"
   ]
  },
  {
   "cell_type": "code",
   "execution_count": 11,
   "metadata": {},
   "outputs": [
    {
     "data": {
      "text/plain": [
       "array([0.17794618, 0.19742161, 0.28775711, 0.29219797, 0.32966756,\n",
       "       0.33925453, 0.36339133, 0.3732651 , 0.38993645, 0.37978858,\n",
       "       0.376424  , 0.37989309, 0.37940494, 0.38046565, 0.3832221 ,\n",
       "       0.37899455, 0.38176734, 0.38707466, 0.38334359, 0.38831201,\n",
       "       0.3854152 , 0.38664628, 0.3850928 , 0.38727822, 0.38883049,\n",
       "       0.38982822, 0.39012668])"
      ]
     },
     "execution_count": 11,
     "metadata": {},
     "output_type": "execute_result"
    }
   ],
   "source": [
    "rfecv.grid_scores_"
   ]
  },
  {
   "cell_type": "code",
   "execution_count": 12,
   "metadata": {},
   "outputs": [
    {
     "data": {
      "text/plain": [
       "Index(['birth_year', 'city', 'created_date', 'user_settings_crypto_unlocked',\n",
       "       'num_contacts', 'North-East', 'UK', 'West-South', 'brand',\n",
       "       'number_of_transactions', 'completed_transactions',\n",
       "       'Perc_comp_transactions', 'transactions_last_15_days',\n",
       "       'transactions_april_2019', 'transactions_Jan_Feb_Mar_2019',\n",
       "       'total_amount_usd', 'total_amount_usd_completed', 'Perc_compl_amount',\n",
       "       'max_amount_usd_completed', 'min_amount_usd_completed',\n",
       "       'mean_amount_usd_completed', 'EMAIL', 'PUSH', 'SMS', 'PUSH_sent',\n",
       "       'EMAIL_sent', 'SMS_sent'],\n",
       "      dtype='object')"
      ]
     },
     "execution_count": 12,
     "metadata": {},
     "output_type": "execute_result"
    }
   ],
   "source": [
    "X.columns"
   ]
  },
  {
   "cell_type": "code",
   "execution_count": 16,
   "metadata": {
    "scrolled": true
   },
   "outputs": [
    {
     "name": "stdout",
     "output_type": "stream",
     "text": [
      "[-0.  0.  0.  0.  0. -0.  0.  0.  0.  0.  0.  0.  0.  0.  0.  0.  0.  0.\n",
      "  0. -0.  0.  0.  0.  0.  0.  0.  0.]\n"
     ]
    }
   ],
   "source": [
    "from sklearn.linear_model import Lasso\n",
    "\n",
    "lass = Lasso()\n",
    "lass.fit(X_train,y_train)\n",
    "print(lass.coef_)"
   ]
  },
  {
   "cell_type": "markdown",
   "metadata": {},
   "source": [
    "## Model"
   ]
  },
  {
   "cell_type": "code",
   "execution_count": 20,
   "metadata": {},
   "outputs": [],
   "source": [
    "from sklearn.model_selection import train_test_split\n",
    "\n",
    "X_train, X_test, y_train, y_test = train_test_split(X, y, test_size=0.2)"
   ]
  },
  {
   "cell_type": "code",
   "execution_count": 33,
   "metadata": {},
   "outputs": [],
   "source": [
    "from sklearn.preprocessing import StandardScaler\n",
    "from sklearn.neural_network import MLPClassifier\n",
    "from sklearn.model_selection import GridSearchCV\n",
    "from sklearn.metrics import f1_score\n",
    "from imblearn.over_sampling import RandomOverSampler \n",
    "from imblearn.under_sampling import RandomUnderSampler\n",
    "from sklearn.neural_network import MLPClassifier\n",
    "from sklearn.model_selection import GridSearchCV\n",
    "from sklearn.metrics import f1_score\n",
    "from sklearn.metrics import accuracy_score, classification_report"
   ]
  },
  {
   "cell_type": "code",
   "execution_count": 51,
   "metadata": {},
   "outputs": [
    {
     "data": {
      "text/plain": [
       "GridSearchCV(cv=5,\n",
       "             estimator=Pipeline(steps=[('scaler', StandardScaler()),\n",
       "                                       ('sampler', RandomOverSampler()),\n",
       "                                       ('classifier', KNeighborsClassifier())]),\n",
       "             param_grid={'classifier__n_neighbors': [1, 2, 3, 4, 5, 6, 7, 8, 9,\n",
       "                                                     10, 11, 12, 13, 14, 15]},\n",
       "             scoring='f1')"
      ]
     },
     "execution_count": 51,
     "metadata": {},
     "output_type": "execute_result"
    }
   ],
   "source": [
    "from sklearn.neighbors import KNeighborsClassifier  \n",
    "from imblearn.pipeline import Pipeline\n",
    "\n",
    "sc = StandardScaler()  \n",
    "rus = RandomOverSampler()  \n",
    "knn = KNeighborsClassifier()\n",
    "\n",
    "pipe = Pipeline([('scaler',sc),('sampler',rus),('classifier',knn)])\n",
    "\n",
    "grid = {'classifier__n_neighbors' : [1,2,3,4,5,6,7, 8,9, 10, 11, 12, 13, 14, 15]}\n",
    "gs = GridSearchCV(pipe, grid, cv=5, scoring='f1')\n",
    "gs.fit(X_train,y_train)"
   ]
  },
  {
   "cell_type": "code",
   "execution_count": 52,
   "metadata": {},
   "outputs": [
    {
     "data": {
      "text/plain": [
       "{'classifier__n_neighbors': 6}"
      ]
     },
     "execution_count": 52,
     "metadata": {},
     "output_type": "execute_result"
    }
   ],
   "source": [
    "gs.best_params_"
   ]
  },
  {
   "cell_type": "code",
   "execution_count": 53,
   "metadata": {},
   "outputs": [
    {
     "data": {
      "text/plain": [
       "0.3988095238095238"
      ]
     },
     "execution_count": 53,
     "metadata": {},
     "output_type": "execute_result"
    }
   ],
   "source": [
    "preds = gs.predict(X_test)    \n",
    "f1_score(y_test,preds)"
   ]
  },
  {
   "cell_type": "code",
   "execution_count": 43,
   "metadata": {},
   "outputs": [
    {
     "name": "stdout",
     "output_type": "stream",
     "text": [
      "0.8633000964940495\n",
      "-----------------------------\n",
      "              precision    recall  f1-score   support\n",
      "\n",
      "           0       0.97      0.88      0.92      2857\n",
      "           1       0.33      0.67      0.44       252\n",
      "\n",
      "    accuracy                           0.86      3109\n",
      "   macro avg       0.65      0.78      0.68      3109\n",
      "weighted avg       0.92      0.86      0.88      3109\n",
      "\n"
     ]
    }
   ],
   "source": [
    "from sklearn.metrics import accuracy_score, classification_report\n",
    "\n",
    "print(accuracy_score(y_test,preds))\n",
    "print('-----------------------------')\n",
    "print(classification_report(y_test,preds))"
   ]
  },
  {
   "cell_type": "markdown",
   "metadata": {},
   "source": [
    "## Clustering"
   ]
  },
  {
   "cell_type": "code",
   "execution_count": 3,
   "metadata": {},
   "outputs": [],
   "source": [
    "from sklearn.cluster import KMeans\n",
    "from sklearn.metrics import silhouette_score"
   ]
  },
  {
   "cell_type": "code",
   "execution_count": 46,
   "metadata": {},
   "outputs": [
    {
     "data": {
      "text/html": [
       "<div>\n",
       "<style scoped>\n",
       "    .dataframe tbody tr th:only-of-type {\n",
       "        vertical-align: middle;\n",
       "    }\n",
       "\n",
       "    .dataframe tbody tr th {\n",
       "        vertical-align: top;\n",
       "    }\n",
       "\n",
       "    .dataframe thead th {\n",
       "        text-align: right;\n",
       "    }\n",
       "</style>\n",
       "<table border=\"1\" class=\"dataframe\">\n",
       "  <thead>\n",
       "    <tr style=\"text-align: right;\">\n",
       "      <th></th>\n",
       "      <th>birth_year</th>\n",
       "      <th>city</th>\n",
       "      <th>created_date</th>\n",
       "      <th>user_settings_crypto_unlocked</th>\n",
       "      <th>plan</th>\n",
       "      <th>num_contacts</th>\n",
       "      <th>North-East</th>\n",
       "      <th>UK</th>\n",
       "      <th>West-South</th>\n",
       "      <th>brand</th>\n",
       "      <th>...</th>\n",
       "      <th>Perc_compl_amount</th>\n",
       "      <th>max_amount_usd_completed</th>\n",
       "      <th>min_amount_usd_completed</th>\n",
       "      <th>mean_amount_usd_completed</th>\n",
       "      <th>EMAIL</th>\n",
       "      <th>PUSH</th>\n",
       "      <th>SMS</th>\n",
       "      <th>PUSH_sent</th>\n",
       "      <th>EMAIL_sent</th>\n",
       "      <th>SMS_sent</th>\n",
       "    </tr>\n",
       "  </thead>\n",
       "  <tbody>\n",
       "    <tr>\n",
       "      <th>0</th>\n",
       "      <td>13</td>\n",
       "      <td>1</td>\n",
       "      <td>1</td>\n",
       "      <td>0</td>\n",
       "      <td>0</td>\n",
       "      <td>3</td>\n",
       "      <td>0</td>\n",
       "      <td>1</td>\n",
       "      <td>0</td>\n",
       "      <td>1</td>\n",
       "      <td>...</td>\n",
       "      <td>97.232179</td>\n",
       "      <td>510.64</td>\n",
       "      <td>0.58</td>\n",
       "      <td>13.317462</td>\n",
       "      <td>1.0</td>\n",
       "      <td>1.0</td>\n",
       "      <td>0.0</td>\n",
       "      <td>2.0</td>\n",
       "      <td>6.0</td>\n",
       "      <td>0.0</td>\n",
       "    </tr>\n",
       "    <tr>\n",
       "      <th>1</th>\n",
       "      <td>12</td>\n",
       "      <td>0</td>\n",
       "      <td>1</td>\n",
       "      <td>1</td>\n",
       "      <td>0</td>\n",
       "      <td>75</td>\n",
       "      <td>1</td>\n",
       "      <td>0</td>\n",
       "      <td>0</td>\n",
       "      <td>1</td>\n",
       "      <td>...</td>\n",
       "      <td>91.480489</td>\n",
       "      <td>851.06</td>\n",
       "      <td>0.94</td>\n",
       "      <td>97.410075</td>\n",
       "      <td>1.0</td>\n",
       "      <td>1.0</td>\n",
       "      <td>0.0</td>\n",
       "      <td>5.0</td>\n",
       "      <td>5.0</td>\n",
       "      <td>0.0</td>\n",
       "    </tr>\n",
       "    <tr>\n",
       "      <th>2</th>\n",
       "      <td>14</td>\n",
       "      <td>0</td>\n",
       "      <td>1</td>\n",
       "      <td>0</td>\n",
       "      <td>0</td>\n",
       "      <td>71</td>\n",
       "      <td>1</td>\n",
       "      <td>0</td>\n",
       "      <td>0</td>\n",
       "      <td>1</td>\n",
       "      <td>...</td>\n",
       "      <td>91.301870</td>\n",
       "      <td>194.38</td>\n",
       "      <td>0.04</td>\n",
       "      <td>10.163806</td>\n",
       "      <td>1.0</td>\n",
       "      <td>1.0</td>\n",
       "      <td>0.0</td>\n",
       "      <td>3.0</td>\n",
       "      <td>2.0</td>\n",
       "      <td>0.0</td>\n",
       "    </tr>\n",
       "    <tr>\n",
       "      <th>3</th>\n",
       "      <td>11</td>\n",
       "      <td>1</td>\n",
       "      <td>1</td>\n",
       "      <td>0</td>\n",
       "      <td>0</td>\n",
       "      <td>219</td>\n",
       "      <td>1</td>\n",
       "      <td>0</td>\n",
       "      <td>0</td>\n",
       "      <td>1</td>\n",
       "      <td>...</td>\n",
       "      <td>84.628052</td>\n",
       "      <td>510.64</td>\n",
       "      <td>1.87</td>\n",
       "      <td>49.994929</td>\n",
       "      <td>1.0</td>\n",
       "      <td>1.0</td>\n",
       "      <td>0.0</td>\n",
       "      <td>6.0</td>\n",
       "      <td>0.0</td>\n",
       "      <td>0.0</td>\n",
       "    </tr>\n",
       "    <tr>\n",
       "      <th>4</th>\n",
       "      <td>13</td>\n",
       "      <td>1</td>\n",
       "      <td>1</td>\n",
       "      <td>0</td>\n",
       "      <td>0</td>\n",
       "      <td>0</td>\n",
       "      <td>0</td>\n",
       "      <td>1</td>\n",
       "      <td>0</td>\n",
       "      <td>1</td>\n",
       "      <td>...</td>\n",
       "      <td>91.859790</td>\n",
       "      <td>200.00</td>\n",
       "      <td>1.50</td>\n",
       "      <td>19.628600</td>\n",
       "      <td>1.0</td>\n",
       "      <td>1.0</td>\n",
       "      <td>0.0</td>\n",
       "      <td>4.0</td>\n",
       "      <td>3.0</td>\n",
       "      <td>0.0</td>\n",
       "    </tr>\n",
       "    <tr>\n",
       "      <th>...</th>\n",
       "      <td>...</td>\n",
       "      <td>...</td>\n",
       "      <td>...</td>\n",
       "      <td>...</td>\n",
       "      <td>...</td>\n",
       "      <td>...</td>\n",
       "      <td>...</td>\n",
       "      <td>...</td>\n",
       "      <td>...</td>\n",
       "      <td>...</td>\n",
       "      <td>...</td>\n",
       "      <td>...</td>\n",
       "      <td>...</td>\n",
       "      <td>...</td>\n",
       "      <td>...</td>\n",
       "      <td>...</td>\n",
       "      <td>...</td>\n",
       "      <td>...</td>\n",
       "      <td>...</td>\n",
       "      <td>...</td>\n",
       "      <td>...</td>\n",
       "    </tr>\n",
       "    <tr>\n",
       "      <th>15539</th>\n",
       "      <td>14</td>\n",
       "      <td>0</td>\n",
       "      <td>2</td>\n",
       "      <td>0</td>\n",
       "      <td>0</td>\n",
       "      <td>0</td>\n",
       "      <td>1</td>\n",
       "      <td>0</td>\n",
       "      <td>0</td>\n",
       "      <td>0</td>\n",
       "      <td>...</td>\n",
       "      <td>66.498099</td>\n",
       "      <td>297.65</td>\n",
       "      <td>0.05</td>\n",
       "      <td>46.977473</td>\n",
       "      <td>1.0</td>\n",
       "      <td>1.0</td>\n",
       "      <td>0.0</td>\n",
       "      <td>1.0</td>\n",
       "      <td>2.0</td>\n",
       "      <td>0.0</td>\n",
       "    </tr>\n",
       "    <tr>\n",
       "      <th>15540</th>\n",
       "      <td>12</td>\n",
       "      <td>0</td>\n",
       "      <td>2</td>\n",
       "      <td>0</td>\n",
       "      <td>0</td>\n",
       "      <td>0</td>\n",
       "      <td>1</td>\n",
       "      <td>0</td>\n",
       "      <td>0</td>\n",
       "      <td>1</td>\n",
       "      <td>...</td>\n",
       "      <td>93.653549</td>\n",
       "      <td>43.84</td>\n",
       "      <td>0.46</td>\n",
       "      <td>9.710000</td>\n",
       "      <td>1.0</td>\n",
       "      <td>1.0</td>\n",
       "      <td>0.0</td>\n",
       "      <td>0.0</td>\n",
       "      <td>0.0</td>\n",
       "      <td>0.0</td>\n",
       "    </tr>\n",
       "    <tr>\n",
       "      <th>15541</th>\n",
       "      <td>10</td>\n",
       "      <td>1</td>\n",
       "      <td>2</td>\n",
       "      <td>0</td>\n",
       "      <td>0</td>\n",
       "      <td>16</td>\n",
       "      <td>0</td>\n",
       "      <td>1</td>\n",
       "      <td>0</td>\n",
       "      <td>0</td>\n",
       "      <td>...</td>\n",
       "      <td>90.598940</td>\n",
       "      <td>1100.00</td>\n",
       "      <td>0.01</td>\n",
       "      <td>16.687062</td>\n",
       "      <td>1.0</td>\n",
       "      <td>1.0</td>\n",
       "      <td>0.0</td>\n",
       "      <td>1.0</td>\n",
       "      <td>3.0</td>\n",
       "      <td>0.0</td>\n",
       "    </tr>\n",
       "    <tr>\n",
       "      <th>15542</th>\n",
       "      <td>10</td>\n",
       "      <td>1</td>\n",
       "      <td>1</td>\n",
       "      <td>0</td>\n",
       "      <td>1</td>\n",
       "      <td>44</td>\n",
       "      <td>1</td>\n",
       "      <td>0</td>\n",
       "      <td>0</td>\n",
       "      <td>1</td>\n",
       "      <td>...</td>\n",
       "      <td>92.213975</td>\n",
       "      <td>85.11</td>\n",
       "      <td>0.01</td>\n",
       "      <td>17.770435</td>\n",
       "      <td>1.0</td>\n",
       "      <td>1.0</td>\n",
       "      <td>0.0</td>\n",
       "      <td>1.0</td>\n",
       "      <td>2.0</td>\n",
       "      <td>0.0</td>\n",
       "    </tr>\n",
       "    <tr>\n",
       "      <th>15543</th>\n",
       "      <td>13</td>\n",
       "      <td>0</td>\n",
       "      <td>2</td>\n",
       "      <td>1</td>\n",
       "      <td>0</td>\n",
       "      <td>8</td>\n",
       "      <td>0</td>\n",
       "      <td>1</td>\n",
       "      <td>0</td>\n",
       "      <td>0</td>\n",
       "      <td>...</td>\n",
       "      <td>94.337208</td>\n",
       "      <td>113.17</td>\n",
       "      <td>0.01</td>\n",
       "      <td>6.072769</td>\n",
       "      <td>1.0</td>\n",
       "      <td>1.0</td>\n",
       "      <td>0.0</td>\n",
       "      <td>3.0</td>\n",
       "      <td>4.0</td>\n",
       "      <td>0.0</td>\n",
       "    </tr>\n",
       "  </tbody>\n",
       "</table>\n",
       "<p>15544 rows × 28 columns</p>\n",
       "</div>"
      ],
      "text/plain": [
       "       birth_year  city  created_date  user_settings_crypto_unlocked  plan  \\\n",
       "0              13     1             1                              0     0   \n",
       "1              12     0             1                              1     0   \n",
       "2              14     0             1                              0     0   \n",
       "3              11     1             1                              0     0   \n",
       "4              13     1             1                              0     0   \n",
       "...           ...   ...           ...                            ...   ...   \n",
       "15539          14     0             2                              0     0   \n",
       "15540          12     0             2                              0     0   \n",
       "15541          10     1             2                              0     0   \n",
       "15542          10     1             1                              0     1   \n",
       "15543          13     0             2                              1     0   \n",
       "\n",
       "       num_contacts  North-East  UK  West-South  brand  ...  \\\n",
       "0                 3           0   1           0      1  ...   \n",
       "1                75           1   0           0      1  ...   \n",
       "2                71           1   0           0      1  ...   \n",
       "3               219           1   0           0      1  ...   \n",
       "4                 0           0   1           0      1  ...   \n",
       "...             ...         ...  ..         ...    ...  ...   \n",
       "15539             0           1   0           0      0  ...   \n",
       "15540             0           1   0           0      1  ...   \n",
       "15541            16           0   1           0      0  ...   \n",
       "15542            44           1   0           0      1  ...   \n",
       "15543             8           0   1           0      0  ...   \n",
       "\n",
       "       Perc_compl_amount  max_amount_usd_completed  min_amount_usd_completed  \\\n",
       "0              97.232179                    510.64                      0.58   \n",
       "1              91.480489                    851.06                      0.94   \n",
       "2              91.301870                    194.38                      0.04   \n",
       "3              84.628052                    510.64                      1.87   \n",
       "4              91.859790                    200.00                      1.50   \n",
       "...                  ...                       ...                       ...   \n",
       "15539          66.498099                    297.65                      0.05   \n",
       "15540          93.653549                     43.84                      0.46   \n",
       "15541          90.598940                   1100.00                      0.01   \n",
       "15542          92.213975                     85.11                      0.01   \n",
       "15543          94.337208                    113.17                      0.01   \n",
       "\n",
       "       mean_amount_usd_completed  EMAIL  PUSH  SMS  PUSH_sent  EMAIL_sent  \\\n",
       "0                      13.317462    1.0   1.0  0.0        2.0         6.0   \n",
       "1                      97.410075    1.0   1.0  0.0        5.0         5.0   \n",
       "2                      10.163806    1.0   1.0  0.0        3.0         2.0   \n",
       "3                      49.994929    1.0   1.0  0.0        6.0         0.0   \n",
       "4                      19.628600    1.0   1.0  0.0        4.0         3.0   \n",
       "...                          ...    ...   ...  ...        ...         ...   \n",
       "15539                  46.977473    1.0   1.0  0.0        1.0         2.0   \n",
       "15540                   9.710000    1.0   1.0  0.0        0.0         0.0   \n",
       "15541                  16.687062    1.0   1.0  0.0        1.0         3.0   \n",
       "15542                  17.770435    1.0   1.0  0.0        1.0         2.0   \n",
       "15543                   6.072769    1.0   1.0  0.0        3.0         4.0   \n",
       "\n",
       "       SMS_sent  \n",
       "0           0.0  \n",
       "1           0.0  \n",
       "2           0.0  \n",
       "3           0.0  \n",
       "4           0.0  \n",
       "...         ...  \n",
       "15539       0.0  \n",
       "15540       0.0  \n",
       "15541       0.0  \n",
       "15542       0.0  \n",
       "15543       0.0  \n",
       "\n",
       "[15544 rows x 28 columns]"
      ]
     },
     "execution_count": 46,
     "metadata": {},
     "output_type": "execute_result"
    }
   ],
   "source": [
    "users"
   ]
  },
  {
   "cell_type": "code",
   "execution_count": 218,
   "metadata": {},
   "outputs": [],
   "source": [
    "#X2= users[['transactions_last_15_days','transactions_april_2019', 'transactions_Jan_Feb_Mar_2019']]\n",
    "X2= users[[ 'EMAIL','PUSH','SMS','PUSH_sent','EMAIL_sent','SMS_sent']]\n",
    "\n",
    "#X2= users[['transactions_last_15_days','transactions_april_2019', 'transactions_Jan_Feb_Mar_2019','PUSH_sent','EMAIL_sent','SMS_sent', 'plan']]\n",
    "\n",
    "#X2 = users[['birth_year', 'plan', 'North-East', 'UK', 'West-South','mean_amount_usd_completed']]"
   ]
  },
  {
   "cell_type": "code",
   "execution_count": 4,
   "metadata": {},
   "outputs": [],
   "source": [
    "X2= users[['birth_year', 'user_settings_crypto_unlocked','plan', 'brand',\n",
    "           'PUSH_sent','EMAIL_sent','SMS_sent','completed_transactions']]"
   ]
  },
  {
   "cell_type": "code",
   "execution_count": 6,
   "metadata": {},
   "outputs": [],
   "source": [
    "matrix=X2.values"
   ]
  },
  {
   "cell_type": "code",
   "execution_count": 137,
   "metadata": {},
   "outputs": [
    {
     "name": "stdout",
     "output_type": "stream",
     "text": [
      "For k = 3 The average silhouette_score is : 0.9996325588498859\n",
      "For k = 4 The average silhouette_score is : 0.999509172645048\n",
      "For k = 5 The average silhouette_score is : 0.9995027074442832\n",
      "For k = 6 The average silhouette_score is : 0.9994193586669757\n",
      "For k = 7 The average silhouette_score is : 0.9987532276645207\n",
      "For k = 8 The average silhouette_score is : 0.9986500819997932\n",
      "For k = 9 The average silhouette_score is : 0.9986782659359859\n"
     ]
    }
   ],
   "source": [
    "matrix = X.values\n",
    "for k in range(3, 10):\n",
    "    kmeans = KMeans(n_clusters=k, n_init=30, random_state=1000)\n",
    "    kmeans.fit(matrix)\n",
    "    clusters = kmeans.predict(matrix)\n",
    "    silhouette_avg = silhouette_score(matrix, clusters)\n",
    "    print(\"For k =\", k, \"The average silhouette_score is :\", silhouette_avg)"
   ]
  },
  {
   "cell_type": "code",
   "execution_count": 2,
   "metadata": {},
   "outputs": [],
   "source": [
    "import numpy as np\n",
    "p = np.array([0,2,1,3,4])"
   ]
  },
  {
   "cell_type": "code",
   "execution_count": 4,
   "metadata": {},
   "outputs": [
    {
     "ename": "AttributeError",
     "evalue": "'numpy.ndarray' object has no attribute 'to_csv'",
     "output_type": "error",
     "traceback": [
      "\u001b[1;31m---------------------------------------------------------------------------\u001b[0m",
      "\u001b[1;31mAttributeError\u001b[0m                            Traceback (most recent call last)",
      "\u001b[1;32m<ipython-input-4-adb58f49ef69>\u001b[0m in \u001b[0;36m<module>\u001b[1;34m\u001b[0m\n\u001b[1;32m----> 1\u001b[1;33m \u001b[0mp\u001b[0m\u001b[1;33m.\u001b[0m\u001b[0mto_csv\u001b[0m\u001b[1;33m(\u001b[0m\u001b[1;34m'p.csv'\u001b[0m\u001b[1;33m,\u001b[0m \u001b[0mindex\u001b[0m\u001b[1;33m=\u001b[0m\u001b[1;32mTrue\u001b[0m\u001b[1;33m)\u001b[0m\u001b[1;33m\u001b[0m\u001b[1;33m\u001b[0m\u001b[0m\n\u001b[0m",
      "\u001b[1;31mAttributeError\u001b[0m: 'numpy.ndarray' object has no attribute 'to_csv'"
     ]
    }
   ],
   "source": [
    "p.to_csv('p.csv', index=True)"
   ]
  },
  {
   "cell_type": "code",
   "execution_count": null,
   "metadata": {},
   "outputs": [],
   "source": []
  }
 ],
 "metadata": {
  "kernelspec": {
   "display_name": "Python 3",
   "language": "python",
   "name": "python3"
  },
  "language_info": {
   "codemirror_mode": {
    "name": "ipython",
    "version": 3
   },
   "file_extension": ".py",
   "mimetype": "text/x-python",
   "name": "python",
   "nbconvert_exporter": "python",
   "pygments_lexer": "ipython3",
   "version": "3.7.7"
  }
 },
 "nbformat": 4,
 "nbformat_minor": 4
}
