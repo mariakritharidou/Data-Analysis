{
 "cells": [
  {
   "cell_type": "code",
   "execution_count": 2,
   "metadata": {},
   "outputs": [],
   "source": [
    "import pandas as pd\n",
    "import matplotlib.pyplot as plt"
   ]
  },
  {
   "cell_type": "code",
   "execution_count": 31,
   "metadata": {},
   "outputs": [],
   "source": [
    "us = pd.read_csv('C:\\\\Users\\\\Maria\\\\Desktop\\\\CodeHub\\\\Jupyter\\Project\\\\users_processed.csv')"
   ]
  },
  {
   "cell_type": "code",
   "execution_count": 32,
   "metadata": {},
   "outputs": [
    {
     "data": {
      "text/plain": [
       "Index(['Unnamed: 0', 'user_id', 'birth_year', 'city', 'created_date',\n",
       "       'user_settings_crypto_unlocked', 'plan', 'num_contacts', 'North-East',\n",
       "       'UK', 'West-South', 'brand', 'number_of_transactions',\n",
       "       'completed_transactions', 'Perc_comp_transactions',\n",
       "       'transactions_last_15_days', 'transactions_april_2019',\n",
       "       'transactions_Jan_Feb_Mar_2019', 'total_amount_usd',\n",
       "       'total_amount_usd_completed', 'Perc_compl_amount',\n",
       "       'max_amount_usd_completed', 'min_amount_usd_completed',\n",
       "       'mean_amount_usd_completed', 'EMAIL', 'PUSH', 'SMS', 'PUSH_sent',\n",
       "       'EMAIL_sent', 'SMS_sent', 'Agricultural Services', 'Business Services',\n",
       "       'Car Rental', 'Clothing Stores', 'Contracted Services',\n",
       "       'Government Services', 'Lodging', 'Miscellaneous Stores',\n",
       "       'Professional Services and Membership Organizations',\n",
       "       'Retail Outlet Services', 'Transportation Services',\n",
       "       'Travel and Entertainment', 'Utility Services', 'Africa', 'Americas',\n",
       "       'Asia', 'North-Europe', 'Oceania', 'South-Europe'],\n",
       "      dtype='object')"
      ]
     },
     "execution_count": 32,
     "metadata": {},
     "output_type": "execute_result"
    }
   ],
   "source": [
    "us.columns"
   ]
  },
  {
   "cell_type": "markdown",
   "metadata": {},
   "source": [
    "## 1. Features of the Model"
   ]
  },
  {
   "cell_type": "code",
   "execution_count": 8,
   "metadata": {},
   "outputs": [],
   "source": [
    "X = us[['birth_year', 'city', 'created_date', 'user_settings_crypto_unlocked',\n",
    "        'num_contacts', 'North-East', 'UK', 'West-South', 'brand',\n",
    "       'number_of_transactions', 'completed_transactions',\n",
    "       'Perc_comp_transactions', 'transactions_last_15_days',\n",
    "       'transactions_april_2019', 'transactions_Jan_Feb_Mar_2019',\n",
    "       'total_amount_usd', 'total_amount_usd_completed', 'Perc_compl_amount',\n",
    "       'max_amount_usd_completed', 'min_amount_usd_completed',\n",
    "       'mean_amount_usd_completed', 'EMAIL', 'PUSH', 'SMS', 'PUSH_sent',\n",
    "       'EMAIL_sent', 'SMS_sent']]"
   ]
  },
  {
   "cell_type": "code",
   "execution_count": 9,
   "metadata": {},
   "outputs": [],
   "source": [
    "y = us['plan']"
   ]
  },
  {
   "cell_type": "markdown",
   "metadata": {},
   "source": [
    "## 2. Recursive Feature elimination"
   ]
  },
  {
   "cell_type": "code",
   "execution_count": 26,
   "metadata": {},
   "outputs": [],
   "source": [
    "from sklearn.model_selection import train_test_split\n",
    "\n",
    "X_train, X_test, y_train, y_test = train_test_split(X, y, test_size=0.2)"
   ]
  },
  {
   "cell_type": "code",
   "execution_count": 15,
   "metadata": {},
   "outputs": [
    {
     "data": {
      "text/plain": [
       "((12435, 27), (3109, 27), (12435,), (3109,))"
      ]
     },
     "execution_count": 15,
     "metadata": {},
     "output_type": "execute_result"
    }
   ],
   "source": [
    "X_train.shape, X_test.shape, y_train.shape, y_test.shape"
   ]
  },
  {
   "cell_type": "code",
   "execution_count": 16,
   "metadata": {},
   "outputs": [],
   "source": [
    "from sklearn.preprocessing import StandardScaler\n",
    "\n",
    "sc = StandardScaler()\n",
    "\n",
    "X_train = sc.fit_transform(X_train)\n",
    "X_test = sc.transform(X_test)"
   ]
  },
  {
   "cell_type": "code",
   "execution_count": 17,
   "metadata": {},
   "outputs": [
    {
     "data": {
      "image/png": "[encoded data removed]",
      "text/plain": [
       "<Figure size 432x288 with 1 Axes>"
      ]
     },
     "metadata": {
      "needs_background": "light"
     },
     "output_type": "display_data"
    }
   ],
   "source": [
    "from sklearn.linear_model import LogisticRegression\n",
    "from sklearn.feature_selection import RFECV\n",
    "import warnings\n",
    "\n",
    "warnings.filterwarnings('ignore')\n",
    "\n",
    "clf = LogisticRegression(solver='lbfgs', multi_class='auto')\n",
    "\n",
    "rfecv = RFECV(estimator=clf, cv=5, scoring='f1')  \n",
    "rfecv.fit(X_train, y_train)\n",
    "\n",
    "#                                                PLOTTING:\n",
    "#                              --------------------------------------------\n",
    "\n",
    "ax = plt.subplot(111)\n",
    "ax.plot(range(1, len(rfecv.grid_scores_) + 1), rfecv.grid_scores_)\n",
    "\n",
    "ax.set_title('Performance per number of features selected')\n",
    "ax.set_xlabel('features selected')\n",
    "ax.set_ylabel('f1-score')\n",
    "\n",
    "ax.spines['top'].set_visible(False)\n",
    "ax.spines['right'].set_visible(False)"
   ]
  },
  {
   "cell_type": "code",
   "execution_count": 18,
   "metadata": {},
   "outputs": [
    {
     "data": {
      "text/plain": [
       "array([ True, False, False,  True, False, False, False,  True,  True,\n",
       "        True,  True,  True,  True,  True,  True, False,  True,  True,\n",
       "        True,  True, False,  True,  True, False,  True,  True, False])"
      ]
     },
     "execution_count": 18,
     "metadata": {},
     "output_type": "execute_result"
    }
   ],
   "source": [
    "rfecv.support_"
   ]
  },
  {
   "cell_type": "code",
   "execution_count": 19,
   "metadata": {},
   "outputs": [
    {
     "data": {
      "text/plain": [
       "array([0.16548767, 0.18942839, 0.23749726, 0.26240662, 0.2969403 ,\n",
       "       0.32048829, 0.32278254, 0.34526747, 0.3679859 , 0.36657261,\n",
       "       0.38505686, 0.37779647, 0.37837123, 0.38039554, 0.38424087,\n",
       "       0.38362775, 0.38542189, 0.3872138 , 0.38601587, 0.38506482,\n",
       "       0.38412322, 0.38289612, 0.38226181, 0.38105136, 0.38363611,\n",
       "       0.38457242, 0.38457242])"
      ]
     },
     "execution_count": 19,
     "metadata": {},
     "output_type": "execute_result"
    }
   ],
   "source": [
    "rfecv.grid_scores_"
   ]
  },
  {
   "cell_type": "markdown",
   "metadata": {},
   "source": [
    "## 3. Machine Learning Model"
   ]
  },
  {
   "cell_type": "code",
   "execution_count": 20,
   "metadata": {},
   "outputs": [],
   "source": [
    "from sklearn.preprocessing import StandardScaler\n",
    "from sklearn.neural_network import MLPClassifier\n",
    "from sklearn.model_selection import GridSearchCV\n",
    "from sklearn.metrics import f1_score \n",
    "from sklearn.metrics import accuracy_score, classification_report\n",
    "from imblearn.under_sampling import RandomUnderSampler\n",
    "from sklearn.neural_network import MLPClassifier"
   ]
  },
  {
   "cell_type": "code",
   "execution_count": 27,
   "metadata": {},
   "outputs": [
    {
     "data": {
      "text/plain": [
       "GridSearchCV(cv=5,\n",
       "             estimator=Pipeline(steps=[('scaler', StandardScaler()),\n",
       "                                       ('sampler', RandomUnderSampler()),\n",
       "                                       ('classifier', MLPClassifier())]),\n",
       "             param_grid={'classifier__activation': ['logistic', 'relu'],\n",
       "                         'classifier__batch_size': [200, 250, 300],\n",
       "                         'classifier__hidden_layer_sizes': [(10,), (20,), 30,\n",
       "                                                            (50,), (30, 10),\n",
       "                                                            (50, 20), (50, 10),\n",
       "                                                            (50, 30)],\n",
       "                         'classifier__learning_rate_init': [0.01, 0.002]},\n",
       "             scoring='f1')"
      ]
     },
     "execution_count": 27,
     "metadata": {},
     "output_type": "execute_result"
    }
   ],
   "source": [
    "from imblearn.pipeline import Pipeline\n",
    "\n",
    "sc = StandardScaler()  \n",
    "rus = RandomUnderSampler()  \n",
    "knn = MLPClassifier()\n",
    "\n",
    "pipe = Pipeline([('scaler',sc),('sampler',rus),('classifier',knn)])\n",
    "\n",
    "grid = {'classifier__hidden_layer_sizes' : [ (10,),(20,),(30), (50,),(30,10), (50, 20), (50, 10), (50, 30)],\n",
    "        'classifier__batch_size' : [200,250,300],\n",
    "        'classifier__activation' : ['logistic', 'relu'],\n",
    "        'classifier__learning_rate_init' : [0.01, 0.002]}\n",
    "\n",
    "gs = GridSearchCV(pipe, grid, cv=5, scoring='f1')\n",
    "gs.fit(X_train,y_train)"
   ]
  },
  {
   "cell_type": "code",
   "execution_count": 28,
   "metadata": {},
   "outputs": [
    {
     "data": {
      "text/plain": [
       "{'classifier__activation': 'logistic',\n",
       " 'classifier__batch_size': 250,\n",
       " 'classifier__hidden_layer_sizes': (50, 10),\n",
       " 'classifier__learning_rate_init': 0.002}"
      ]
     },
     "execution_count": 28,
     "metadata": {},
     "output_type": "execute_result"
    }
   ],
   "source": [
    "gs.best_params_"
   ]
  },
  {
   "cell_type": "code",
   "execution_count": 29,
   "metadata": {},
   "outputs": [
    {
     "data": {
      "text/plain": [
       "0.3931034482758621"
      ]
     },
     "execution_count": 29,
     "metadata": {},
     "output_type": "execute_result"
    }
   ],
   "source": [
    "preds = gs.predict(X_test)    \n",
    "f1_score(y_test,preds)"
   ]
  },
  {
   "cell_type": "code",
   "execution_count": 30,
   "metadata": {},
   "outputs": [
    {
     "name": "stdout",
     "output_type": "stream",
     "text": [
      "0.8301704728208427\n",
      "-----------------------------\n",
      "              precision    recall  f1-score   support\n",
      "\n",
      "           0       0.98      0.84      0.90      2881\n",
      "           1       0.27      0.75      0.39       228\n",
      "\n",
      "    accuracy                           0.83      3109\n",
      "   macro avg       0.62      0.79      0.65      3109\n",
      "weighted avg       0.92      0.83      0.86      3109\n",
      "\n"
     ]
    }
   ],
   "source": [
    "print(accuracy_score(y_test,preds))\n",
    "print('-----------------------------')\n",
    "print(classification_report(y_test,preds))"
   ]
  }
 ],
 "metadata": {
  "kernelspec": {
   "display_name": "Python 3",
   "language": "python",
   "name": "python3"
  },
  "language_info": {
   "codemirror_mode": {
    "name": "ipython",
    "version": 3
   },
   "file_extension": ".py",
   "mimetype": "text/x-python",
   "name": "python",
   "nbconvert_exporter": "python",
   "pygments_lexer": "ipython3",
   "version": "3.7.7"
  }
 },
 "nbformat": 4,
 "nbformat_minor": 4
}
